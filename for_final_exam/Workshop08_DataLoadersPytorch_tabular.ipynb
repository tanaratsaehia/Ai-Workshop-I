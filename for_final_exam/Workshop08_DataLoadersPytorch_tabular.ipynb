{
  "cells": [
    {
      "cell_type": "markdown",
      "metadata": {
        "id": "gdpTUa3oR6Zm"
      },
      "source": [
        "# DataLoaders in pytorch\n",
        "อ้างอิง [Datasets & DataLoaders](https://pytorch.org/tutorials/beginner/basics/data_tutorial.html)\n",
        "\n",
        "ดร. ไพรสันต์ ผดุงเวียง\n",
        "\n",
        "College of Computing, KKU, 2024"
      ]
    },
    {
      "cell_type": "code",
      "execution_count": 1,
      "metadata": {
        "id": "7wZiubrTI3T5"
      },
      "outputs": [],
      "source": [
        "import torch\n",
        "from torch.utils.data import Dataset,DataLoader\n",
        "from torchvision.transforms import ToTensor\n",
        "import matplotlib.pyplot as plt"
      ]
    },
    {
      "cell_type": "code",
      "execution_count": 2,
      "metadata": {
        "colab": {
          "base_uri": "https://localhost:8080/"
        },
        "id": "gLeqf_aooQ2D",
        "outputId": "5e928695-5f3a-4dc5-bbdc-996d0f6397a4"
      },
      "outputs": [
        {
          "name": "stdout",
          "output_type": "stream",
          "text": [
            "device available:  cpu\n"
          ]
        }
      ],
      "source": [
        "device='cuda' if torch.cuda.is_available() else 'cpu'\n",
        "print('device available: ',device)"
      ]
    },
    {
      "cell_type": "markdown",
      "metadata": {
        "id": "MQKCNCXr5TeH"
      },
      "source": [
        "## Tabular data"
      ]
    },
    {
      "cell_type": "code",
      "execution_count": 3,
      "metadata": {
        "id": "rdgw99fiRtnw"
      },
      "outputs": [],
      "source": [
        "import pandas as pd\n",
        "import numpy as np\n",
        "from sklearn.preprocessing import LabelEncoder\n",
        "\n",
        "data_url = 'https://archive.ics.uci.edu/ml/machine-learning-databases/iris/iris.data'\n",
        "header_list = [\"sepal_length\",\"sepal_width\", \"petal_length\", \"petal_width\",\"species\"]\n",
        "\n",
        "df = pd.read_csv(data_url,header=None,names=header_list,encoding='utf-8')\n",
        "\n",
        "# select data for experiment\n",
        "X = df.iloc[:, 0:4].values.astype(np.float32)\n",
        "y = df.iloc[:, 4].values\n",
        "\n",
        "le = LabelEncoder()\n",
        "y = le.fit_transform(y)\n"
      ]
    },
    {
      "cell_type": "code",
      "execution_count": 4,
      "metadata": {
        "id": "7gEQnmq65v_B"
      },
      "outputs": [],
      "source": [
        "from sklearn.model_selection import train_test_split\n",
        "\n",
        "X_train, X_test, y_train, y_test = train_test_split(X, y, test_size=0.2, random_state=42)\n"
      ]
    },
    {
      "cell_type": "code",
      "execution_count": 5,
      "metadata": {
        "id": "mTzkM4SN6E4L"
      },
      "outputs": [],
      "source": [
        "class CustomIrisDataset(Dataset):\n",
        "    def __init__(self, X,y, transform=None):\n",
        "        self.X = X\n",
        "        self.y = y\n",
        "        self.transform = transform\n",
        "\n",
        "    def __len__(self):\n",
        "        return len(self.y)\n",
        "\n",
        "    def __getitem__(self, idx):\n",
        "        data = self.X[idx, :]\n",
        "        label = self.y[idx]\n",
        "        if self.transform:\n",
        "            data = self.transform(data)\n",
        "        return data, label"
      ]
    },
    {
      "cell_type": "code",
      "execution_count": null,
      "metadata": {
        "colab": {
          "base_uri": "https://localhost:8080/"
        },
        "id": "5-ylZcxcliMq",
        "outputId": "5b316bcd-930c-4ad8-e1a2-250bf9eafc28"
      },
      "outputs": [
        {
          "data": {
            "text/plain": [
              "2"
            ]
          },
          "execution_count": 17,
          "metadata": {},
          "output_type": "execute_result"
        }
      ],
      "source": [
        "import os\n",
        "os.cpu_count()"
      ]
    },
    {
      "cell_type": "code",
      "execution_count": null,
      "metadata": {
        "id": "ymNDHtvs7P_Q"
      },
      "outputs": [],
      "source": [
        "from torch.utils.data import DataLoader\n",
        "training_data = CustomIrisDataset(X_train,y_train)\n",
        "test_data = CustomIrisDataset(X_test,y_test)\n",
        "\n",
        "train_dataloader = DataLoader(training_data, batch_size=16, shuffle=True,num_workers=os.cpu_count())\n",
        "test_dataloader = DataLoader(test_data, batch_size=16, shuffle=False,num_workers=os.cpu_count())"
      ]
    },
    {
      "cell_type": "code",
      "execution_count": null,
      "metadata": {
        "colab": {
          "base_uri": "https://localhost:8080/"
        },
        "id": "7EZATTCU8DBb",
        "outputId": "14bf249c-eec8-41a7-850d-388e7e18b3b4"
      },
      "outputs": [
        {
          "data": {
            "text/plain": [
              "(array([4.6, 3.6, 1. , 0.2], dtype=float32), 0.0)"
            ]
          },
          "execution_count": 93,
          "metadata": {},
          "output_type": "execute_result"
        }
      ],
      "source": [
        "training_data.__getitem__(0)"
      ]
    },
    {
      "cell_type": "code",
      "execution_count": null,
      "metadata": {
        "colab": {
          "base_uri": "https://localhost:8080/"
        },
        "id": "bWq8oTlu8Ggd",
        "outputId": "b0bbb422-4bcc-479f-f08b-aeaafdbe4bc8"
      },
      "outputs": [
        {
          "data": {
            "text/plain": [
              "(tensor([[5.0000, 2.3000, 3.3000, 1.0000],\n",
              "         [7.0000, 3.2000, 4.7000, 1.4000],\n",
              "         [6.7000, 3.3000, 5.7000, 2.1000],\n",
              "         [5.6000, 3.0000, 4.1000, 1.3000],\n",
              "         [5.7000, 2.9000, 4.2000, 1.3000],\n",
              "         [5.8000, 2.8000, 5.1000, 2.4000],\n",
              "         [5.9000, 3.0000, 4.2000, 1.5000],\n",
              "         [5.0000, 3.6000, 1.4000, 0.2000],\n",
              "         [5.1000, 3.8000, 1.6000, 0.2000],\n",
              "         [7.7000, 3.8000, 6.7000, 2.2000],\n",
              "         [5.4000, 3.0000, 4.5000, 1.5000],\n",
              "         [5.0000, 3.0000, 1.6000, 0.2000],\n",
              "         [5.3000, 3.7000, 1.5000, 0.2000],\n",
              "         [5.0000, 3.5000, 1.6000, 0.6000],\n",
              "         [6.3000, 3.3000, 6.0000, 2.5000],\n",
              "         [4.4000, 3.2000, 1.3000, 0.2000]]),\n",
              " tensor([1, 1, 2, 1, 1, 2, 1, 0, 0, 2, 1, 0, 0, 0, 2, 0]))"
            ]
          },
          "execution_count": 21,
          "metadata": {},
          "output_type": "execute_result"
        }
      ],
      "source": [
        "train_features, train_labels = next(iter(train_dataloader))\n",
        "train_features, train_labels"
      ]
    },
    {
      "cell_type": "markdown",
      "metadata": {
        "id": "bZVqZvM-AXEm"
      },
      "source": [
        "### Transform\n",
        "\n",
        "\n",
        "[Pytorch transforms tutorial](https://pytorch.org/tutorials/beginner/basics/transforms_tutorial.html)\n",
        "\n"
      ]
    },
    {
      "cell_type": "code",
      "execution_count": null,
      "metadata": {
        "id": "3182XaJgALw4"
      },
      "outputs": [],
      "source": [
        "mean_train=X_train.mean(axis=0)\n",
        "std_train=X_train.std(axis=0)"
      ]
    },
    {
      "cell_type": "code",
      "execution_count": null,
      "metadata": {
        "id": "45svim3VAraD"
      },
      "outputs": [],
      "source": [
        "from torchvision import transforms"
      ]
    },
    {
      "cell_type": "code",
      "execution_count": null,
      "metadata": {
        "id": "Kh6Xj4EzAvTs"
      },
      "outputs": [],
      "source": [
        "transform=transforms.Lambda(lambda x: (x-mean_train)/std_train)"
      ]
    },
    {
      "cell_type": "code",
      "execution_count": null,
      "metadata": {
        "id": "KMihZa-qOIrt"
      },
      "outputs": [],
      "source": [
        "training_data = CustomIrisDataset(X_train,y_train,transform=transform)\n",
        "test_data = CustomIrisDataset(X_test,y_test,transform=transform)\n",
        "\n",
        "train_dataloader = DataLoader(training_data, batch_size=64, shuffle=True)\n",
        "test_dataloader = DataLoader(test_data, batch_size=64, shuffle=False)"
      ]
    },
    {
      "cell_type": "code",
      "execution_count": null,
      "metadata": {
        "colab": {
          "base_uri": "https://localhost:8080/"
        },
        "id": "gxVv-T21OPsU",
        "outputId": "efe3bf24-7ba5-4ad5-e9a6-5367f8608761"
      },
      "outputs": [
        {
          "data": {
            "text/plain": [
              "(array([-1.4739379,  1.2203815, -1.5639873, -1.309484 ], dtype=float32), 0)"
            ]
          },
          "execution_count": 36,
          "metadata": {},
          "output_type": "execute_result"
        }
      ],
      "source": [
        "training_data.__getitem__(0)"
      ]
    },
    {
      "cell_type": "code",
      "execution_count": null,
      "metadata": {
        "id": "5t1f-3FLOSr4"
      },
      "outputs": [],
      "source": [
        "import torch\n",
        "import torch.nn as nn\n",
        "import torch.optim as optim\n",
        "\n",
        "model = nn.Sequential(\n",
        "    nn.Linear(X.shape[1], 10),\n",
        "    nn.Tanh(),\n",
        "    nn.Linear(10, 10),\n",
        "    nn.Tanh(),\n",
        "    nn.Linear(10, 3),\n",
        "    nn.Softmax(dim=1)\n",
        ")\n",
        "model.to(device)\n",
        "\n",
        "optimizer = optim.Adam(model.parameters(), lr=0.01)\n",
        "\n",
        "# Loss function\n",
        "loss_fn = nn.CrossEntropyLoss()"
      ]
    },
    {
      "cell_type": "code",
      "execution_count": null,
      "metadata": {
        "id": "_iCpJwL8PSV7"
      },
      "outputs": [],
      "source": [
        "def train_loop(dataloader, model, loss_fn, optimizer,epochs=100):\n",
        "    for epoch in range(epochs):\n",
        "        model.train()  # กำหนดโหมดของ model เป็น training mode\n",
        "\n",
        "        for X, y in train_dataloader:\n",
        "            X=X.to(device)\n",
        "            y=y.to(device)\n",
        "\n",
        "            # Forward pass\n",
        "            y_pred = model(X)\n",
        "            # Compute loss\n",
        "            loss = loss_fn(y_pred, y)\n",
        "            # Backward pass and optimization\n",
        "            loss.backward()\n",
        "            optimizer.step()\n",
        "            optimizer.zero_grad()  # ล้าง gradient ที่เก็บไว้\n",
        "\n",
        "        # แสดงค่า loss ทุก epoch\n",
        "        print(f'Epoch [{epoch}], Loss: {loss.item():.4f}')"
      ]
    },
    {
      "cell_type": "code",
      "execution_count": null,
      "metadata": {
        "colab": {
          "base_uri": "https://localhost:8080/"
        },
        "id": "Cb5cCPAQTV7W",
        "outputId": "d4bd37dc-c19a-4320-8956-4abd7099459b"
      },
      "outputs": [
        {
          "name": "stdout",
          "output_type": "stream",
          "text": [
            "Epoch [0], Loss: 1.0788\n",
            "Epoch [1], Loss: 1.0577\n",
            "Epoch [2], Loss: 1.0301\n",
            "Epoch [3], Loss: 0.9986\n",
            "Epoch [4], Loss: 0.9517\n",
            "Epoch [5], Loss: 0.9370\n",
            "Epoch [6], Loss: 0.9210\n",
            "Epoch [7], Loss: 0.8730\n",
            "Epoch [8], Loss: 0.8494\n",
            "Epoch [9], Loss: 0.8446\n",
            "Epoch [10], Loss: 0.8583\n",
            "Epoch [11], Loss: 0.8048\n",
            "Epoch [12], Loss: 0.7826\n",
            "Epoch [13], Loss: 0.7980\n",
            "Epoch [14], Loss: 0.7631\n",
            "Epoch [15], Loss: 0.7805\n",
            "Epoch [16], Loss: 0.7292\n",
            "Epoch [17], Loss: 0.7323\n",
            "Epoch [18], Loss: 0.7449\n",
            "Epoch [19], Loss: 0.7203\n",
            "Epoch [20], Loss: 0.6926\n",
            "Epoch [21], Loss: 0.7012\n",
            "Epoch [22], Loss: 0.6844\n",
            "Epoch [23], Loss: 0.6919\n",
            "Epoch [24], Loss: 0.6649\n",
            "Epoch [25], Loss: 0.6453\n",
            "Epoch [26], Loss: 0.6467\n",
            "Epoch [27], Loss: 0.6146\n",
            "Epoch [28], Loss: 0.6272\n",
            "Epoch [29], Loss: 0.6272\n",
            "Epoch [30], Loss: 0.6253\n",
            "Epoch [31], Loss: 0.5992\n",
            "Epoch [32], Loss: 0.5997\n",
            "Epoch [33], Loss: 0.6147\n",
            "Epoch [34], Loss: 0.5808\n",
            "Epoch [35], Loss: 0.5951\n",
            "Epoch [36], Loss: 0.5946\n",
            "Epoch [37], Loss: 0.5988\n",
            "Epoch [38], Loss: 0.5955\n",
            "Epoch [39], Loss: 0.5785\n",
            "Epoch [40], Loss: 0.5800\n",
            "Epoch [41], Loss: 0.5962\n",
            "Epoch [42], Loss: 0.5760\n",
            "Epoch [43], Loss: 0.5844\n",
            "Epoch [44], Loss: 0.6008\n",
            "Epoch [45], Loss: 0.5999\n",
            "Epoch [46], Loss: 0.5687\n",
            "Epoch [47], Loss: 0.5831\n",
            "Epoch [48], Loss: 0.5814\n",
            "Epoch [49], Loss: 0.5851\n",
            "Epoch [50], Loss: 0.5752\n",
            "Epoch [51], Loss: 0.5887\n",
            "Epoch [52], Loss: 0.5742\n",
            "Epoch [53], Loss: 0.5759\n",
            "Epoch [54], Loss: 0.5653\n",
            "Epoch [55], Loss: 0.5841\n",
            "Epoch [56], Loss: 0.5754\n",
            "Epoch [57], Loss: 0.5779\n",
            "Epoch [58], Loss: 0.5737\n",
            "Epoch [59], Loss: 0.5978\n",
            "Epoch [60], Loss: 0.5815\n",
            "Epoch [61], Loss: 0.5779\n",
            "Epoch [62], Loss: 0.5919\n",
            "Epoch [63], Loss: 0.5881\n",
            "Epoch [64], Loss: 0.5852\n",
            "Epoch [65], Loss: 0.5873\n",
            "Epoch [66], Loss: 0.5592\n",
            "Epoch [67], Loss: 0.5726\n",
            "Epoch [68], Loss: 0.5962\n",
            "Epoch [69], Loss: 0.5725\n",
            "Epoch [70], Loss: 0.5916\n",
            "Epoch [71], Loss: 0.5784\n",
            "Epoch [72], Loss: 0.5858\n",
            "Epoch [73], Loss: 0.5714\n",
            "Epoch [74], Loss: 0.5582\n",
            "Epoch [75], Loss: 0.5609\n",
            "Epoch [76], Loss: 0.5817\n",
            "Epoch [77], Loss: 0.5662\n",
            "Epoch [78], Loss: 0.5860\n",
            "Epoch [79], Loss: 0.5668\n",
            "Epoch [80], Loss: 0.5845\n",
            "Epoch [81], Loss: 0.5660\n",
            "Epoch [82], Loss: 0.5806\n",
            "Epoch [83], Loss: 0.5630\n",
            "Epoch [84], Loss: 0.5833\n",
            "Epoch [85], Loss: 0.5688\n",
            "Epoch [86], Loss: 0.5605\n",
            "Epoch [87], Loss: 0.5910\n",
            "Epoch [88], Loss: 0.5729\n",
            "Epoch [89], Loss: 0.5666\n",
            "Epoch [90], Loss: 0.5712\n",
            "Epoch [91], Loss: 0.5814\n",
            "Epoch [92], Loss: 0.5781\n",
            "Epoch [93], Loss: 0.5645\n",
            "Epoch [94], Loss: 0.5834\n",
            "Epoch [95], Loss: 0.5658\n",
            "Epoch [96], Loss: 0.5651\n",
            "Epoch [97], Loss: 0.5708\n",
            "Epoch [98], Loss: 0.5656\n",
            "Epoch [99], Loss: 0.5799\n"
          ]
        }
      ],
      "source": [
        "train_loop(train_dataloader,model,loss_fn=loss_fn,optimizer=optimizer)"
      ]
    },
    {
      "cell_type": "code",
      "execution_count": null,
      "metadata": {
        "id": "ZxqAzxnFR7nD"
      },
      "outputs": [],
      "source": [
        "def test_loop(dataloader, model, loss_fn):\n",
        "    # Set the model to evaluation mode - important for batch normalization and dropout layers\n",
        "    # Unnecessary in this situation but added for best practices\n",
        "    model.eval()\n",
        "    size = len(dataloader.dataset)\n",
        "    num_batches = len(dataloader)\n",
        "    test_loss, correct = 0, 0\n",
        "\n",
        "    # Evaluating the model with torch.no_grad() ensures that no gradients are computed during test mode\n",
        "    # also serves to reduce unnecessary gradient computations and memory usage for tensors with requires_grad=True\n",
        "    with torch.no_grad():\n",
        "        for X, y in dataloader:\n",
        "            X=X.to(device)\n",
        "            y=y.to(device)\n",
        "            pred = model(X)\n",
        "            test_loss += loss_fn(pred, y).item()\n",
        "            correct += (pred.argmax(1) == y).type(torch.float).sum().item()\n",
        "\n",
        "    test_loss /= num_batches\n",
        "    correct /= size\n",
        "    print(f\"Test Error: \\n Accuracy: {(100*correct):>0.1f}%, Avg loss: {test_loss:>8f} \\n\")"
      ]
    },
    {
      "cell_type": "code",
      "execution_count": null,
      "metadata": {
        "colab": {
          "base_uri": "https://localhost:8080/"
        },
        "id": "5p8jSxJcTwcv",
        "outputId": "80d1f2da-2394-4dc7-a951-bb6a8b149231"
      },
      "outputs": [
        {
          "name": "stdout",
          "output_type": "stream",
          "text": [
            "Test Error: \n",
            " Accuracy: 100.0%, Avg loss: 0.559719 \n",
            "\n"
          ]
        }
      ],
      "source": [
        "test_loop(test_dataloader,model,loss_fn=loss_fn)"
      ]
    }
  ],
  "metadata": {
    "colab": {
      "provenance": []
    },
    "kernelspec": {
      "display_name": "Python 3",
      "name": "python3"
    },
    "language_info": {
      "codemirror_mode": {
        "name": "ipython",
        "version": 3
      },
      "file_extension": ".py",
      "mimetype": "text/x-python",
      "name": "python",
      "nbconvert_exporter": "python",
      "pygments_lexer": "ipython3",
      "version": "3.10.14"
    }
  },
  "nbformat": 4,
  "nbformat_minor": 0
}
