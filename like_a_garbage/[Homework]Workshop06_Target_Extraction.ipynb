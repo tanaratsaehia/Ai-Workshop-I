{
  "nbformat": 4,
  "nbformat_minor": 0,
  "metadata": {
    "colab": {
      "provenance": []
    },
    "kernelspec": {
      "name": "python3",
      "display_name": "Python 3"
    },
    "language_info": {
      "name": "python"
    }
  },
  "cells": [
    {
      "cell_type": "markdown",
      "source": [
        "## Workshop 06\n",
        "1. หากต้องการกำหนดวันเริ่มต้นของการพิจารณาว่าไม่มีการใช้งานถือว่าย้ายค่ายเป็นวันใหม่ต้องกำหนดอย่างไร\n",
        "2. หากต้องการกำหนดค่าการย้ายค่าย (y) เป็น 0.5  สำหรับลูกค้าที่หยุดใช้งานไปแล้วกลับมาใช้ใหม่และสถานะไม่มีการค้างชำระ จะต้องทำอย่างไร (คนที่ย้ายไปเลยให้เป็น 1 เหมือนเดิม)\n",
        "\n",
        "(ตอบแต่ละข้อโดยการกำหนดที่ Code แล้วส่งเฉพาะ Code ส่วนที่เปลี่ยน)"
      ],
      "metadata": {
        "id": "iYHY5Q4S-jKO"
      }
    },
    {
      "cell_type": "code",
      "execution_count": null,
      "metadata": {
        "id": "UP9YaeFs-gEN"
      },
      "outputs": [],
      "source": [
        "# กำหนดวันใหม่ใน function นี้โดยวันเริ่มต้นของการพิจารณาจะคำนวณจาก prediction_date - pd.DateOffset(days=lead_time_days)\n",
        "# ซึ่งหมายความว่าวันเริ่มต้นจะเปลี่ยนแปลงตามตัวแปร lead_time_days โดยการเปลี่ยนแปลงค่านี้ต้องอาศัยการพูดคุยกับผู้เชี่ยวชาญด้วย\n",
        "\n",
        "def calculate_churn_for_month(customer_info, raw_transactions, loans, prediction_date, lead_time_days=28):\n",
        "    \"\"\"\n",
        "    Function to calculate churn labels for a specific month.\n",
        "    A customer is labeled as churned if they have no transactions within the lead time period\n",
        "    or if their loan status is 'Default'.\n",
        "    \"\"\"\n",
        "    \"\"\"\n",
        "    ฟังก์ชันสำหรับคำนวณการสูญเสียลูกค้าในเดือนที่ระบุ\n",
        "    ลูกค้าจะถูกจัดว่าสูญเสียในกรณีใดกรณีหนึ่งต่อไปนี้:\n",
        "        1. ไม่มีการทำธุรกรรมใดๆ ในช่วงเวลาที่กำหนด\n",
        "        2. สถานะเงินกู้ของลูกค้าอยู่ในสถานะ 'ผิดนัดชำระ'\n",
        "    \"\"\"\n",
        "    # Define the window of time for which churn is being predicted\n",
        "    start_date = prediction_date - pd.DateOffset(days=lead_time_days)\n",
        "    end_date = prediction_date\n",
        "\n",
        "    # Find recent transactions within the specified window\n",
        "    recent_transactions = raw_transactions[\n",
        "        (raw_transactions['TransactionDate'] >= start_date) &\n",
        "        (raw_transactions['TransactionDate'] < end_date)\n",
        "    ].groupby('CustomerID').size()\n",
        "\n",
        "    # Determine churned customers: no transactions or loan in default\n",
        "    churned_customers = customer_info['CustomerID'].apply(lambda x: 1 if (x not in recent_transactions.index) else 0)\n",
        "    churned_customers = churned_customers | (loans.set_index('CustomerID')['LoanStatus'] == 'Default').astype(int)\n",
        "\n",
        "    return churned_customers"
      ]
    },
    {
      "cell_type": "code",
      "source": [
        "# จากโจทย์กำหนดให้ว่าหากย้ายค่ายแล้วกลับมาใช้งานให้เป็น 0.5 ซึ่งหมายความว่าหากค่าในคอลัมน์ที่เริ่มต้นด้วย '2023-'\n",
        "# มีผลรวมมากกว่า 0 แต่ไม่ถึง 11 นั่นหมายความว่าลูกค้ามีการย้ายค่ายแล้วกลับมาใช้งานซึ่ง y=0.5\n",
        "# แต่หากผลรวมแล้วได้ 11 หมายความว่าลูกค้าย้ายค่ายไปแล้ว y=1\n",
        "# และหากผลผลรวมเป็น 0 หมายความว่าลูกค้าไม่ย้ายค่าย y=0\n",
        "\n",
        "y = np.where(\n",
        "    (datamart[[col for col in datamart.columns if col.startswith('2023-')]].sum(axis=1) > 0) &\n",
        "    (datamart[[col for col in datamart.columns if col.startswith('2023-')]].sum(axis=1) < 11),\n",
        "    0.5,\n",
        "    np.where(\n",
        "        (datamart[[col for col in datamart.columns if col.startswith('2023-')]].sum(axis=1) == 11),\n",
        "        1,\n",
        "        0\n",
        "    )\n",
        ")\n",
        "y"
      ],
      "metadata": {
        "id": "2eoT4xyu-odt"
      },
      "execution_count": null,
      "outputs": []
    }
  ]
}